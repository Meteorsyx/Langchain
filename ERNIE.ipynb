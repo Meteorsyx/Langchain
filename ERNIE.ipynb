{
 "cells": [
  {
   "cell_type": "code",
   "execution_count": 3,
   "metadata": {},
   "outputs": [
    {
     "name": "stdout",
     "output_type": "stream",
     "text": [
      "{\"refresh_token\":\"25.d5d3f21da7ec869914648dd652a583f1.315360000.2024461043.282335-46546111\",\"expires_in\":2592000,\"session_key\":\"9mzdCuEnHVQpnEUxLRoeV8A4VR95VMv2OovNBWJZj\\/IGmgOU+WIuniWcgnP0G27+Vb0KvfsCuXESx43vhaH92LlUSMJGvA==\",\"access_token\":\"24.1eb8d7d7ee01980642f97d1f1cdb9528.2592000.1711693043.282335-46546111\",\"scope\":\"ai_custom_yiyan_com_ernie_35_8k_1222 ai_custom_yiyan_com_ernie_35_8k_0205 ai_custom_yiyan_com_ernie_35_4k_0205 ai_custom_yiyan_com_eb_turbo_pro ai_custom_yiyan_com_tokenizer_eb ai_custom_yiyan_com_mixtral_8x7b public brain_all_scope ai_custom_yiyan_com ai_custom_yiyan_com_eb_instant wenxinworkshop_mgr ai_custom_yiyan_com_bloomz7b1 ai_custom_yiyan_com_emb_text ai_custom_yiyan_com_llama2_7b ai_custom_yiyan_com_llama2_13b ai_custom_yiyan_com_llama2_70b ai_custom_yiyan_com_chatglm2_6b_32k ai_custom_yiyan_com_aquilachat_7b ai_custom_yiyan_com_emb_bge_large_zh ai_custom_yiyan_com_emb_bge_large_en ai_custom_yiyan_com_qianfan_chinese_llama_2_7b ai_custom_qianfan_bloomz_7b_compressed ai_custom_yiyan_com_eb_pro ai_custom_yiyan_com_sd_xl ai_custom_yiyan_com_8k ai_custom_yiyan_com_ai_apaas ai_custom_yiyan_com_qf_chinese_llama_2_13b ai_custom_yiyan_com_sqlcoder_7b ai_custom_yiyan_com_codellama_7b_ins ai_custom_yiyan_com_xuanyuan_70b_chat ai_custom_yiyan_com_yi_34b ai_custom_yiyan_com_chatlaw ai_custom_yiyan_com_emb_tao_8k wise_adapt lebo_resource_base lightservice_public hetu_basic lightcms_map_poi kaidian_kaidian ApsMisTest_Test\\u6743\\u9650 vis-classify_flower lpq_\\u5f00\\u653e cop_helloScope ApsMis_fangdi_permission smartapp_snsapi_base smartapp_mapp_dev_manage iop_autocar oauth_tp_app smartapp_smart_game_openapi oauth_sessionkey smartapp_swanid_verify smartapp_opensource_openapi smartapp_opensource_recapi fake_face_detect_\\u5f00\\u653eScope vis-ocr_\\u865a\\u62df\\u4eba\\u7269\\u52a9\\u7406 idl-video_\\u865a\\u62df\\u4eba\\u7269\\u52a9\\u7406 smartapp_component smartapp_search_plugin avatar_video_test b2b_tp_openapi b2b_tp_openapi_online smartapp_gov_aladin_to_xcx\",\"session_secret\":\"e71a7158311e253f37177e794ce6ce5e\"}\n",
      "\n"
     ]
    }
   ],
   "source": [
    "import requests\n",
    "import json\n",
    "\n",
    "\n",
    "def main():\n",
    "        \n",
    "    url = \"https://aip.baidubce.com/oauth/2.0/token?grant_type=client_credentials&client_id=Txadz3KDsI7VzGZy9YfGKvxp&client_secret=jzaG9cQdSAnsCjHpyrbh67g0X6FPKysU\"\n",
    "    \n",
    "    payload = \"\"\n",
    "    headers = {\n",
    "        'Content-Type': 'application/json',\n",
    "        'Accept': 'application/json'\n",
    "    }\n",
    "    \n",
    "    response = requests.request(\"POST\", url, headers=headers, data=payload)\n",
    "    \n",
    "    print(response.text)\n",
    "main()"
   ]
  },
  {
   "cell_type": "code",
   "execution_count": 6,
   "metadata": {},
   "outputs": [
    {
     "name": "stdout",
     "output_type": "stream",
     "text": [
      "{\"id\":\"as-fqpbcdbz5s\",\"object\":\"chat.completion\",\"created\":1709101138,\"result\":\"以下是几个好养活的小男孩的名字，每个名字都有其独特的含义和寓意：\\n\\n1. **浩然**：“浩”意为广阔、伟大，“然”则常用于表达自然、正确的状态。这个名字寓意着孩子将拥有宽广的胸怀和正直的品质。\\n2. **宇轩**：“宇”指宇宙，“轩”则有高远、开阔之意。这个名字意味着孩子的前途无限，能够高瞻远瞩。\\n3. **明睿**：“明”代表光明、智慧，“睿”则指睿智、聪明。这个名字预示着孩子将拥有聪明才智，人生充满光明。\\n4. **泽楷**：“泽”意为恩泽、润泽，“楷”取自楷模，象征着孩子将成为品德高尚的人。\\n5. **煜城**：“煜”是光明照耀的意思，“城”则给人坚固、稳重的感觉。这个名字寓意孩子将拥有光明的前程和稳固的人生基础。\\n\\n给孩子取名是一件很有意义的事情，希望这些建议能够为您的起名提供一些启示。不过，请记住，名字只是人生的一部分，孩子的成长和发展还需要家长的培养和引导。\",\"is_truncated\":false,\"need_clear_history\":false,\"finish_reason\":\"normal\",\"usage\":{\"prompt_tokens\":9,\"completion_tokens\":246,\"total_tokens\":255}}\n"
     ]
    }
   ],
   "source": [
    "import requests\n",
    "import json\n",
    "\n",
    "access_token = \"24.1eb8d7d7ee01980642f97d1f1cdb9528.2592000.1711693043.282335-46546111\"\n",
    "\n",
    "def main():\n",
    "    url = \"https://aip.baidubce.com/rpc/2.0/ai_custom/v1/wenxinworkshop/chat/completions?access_token=\" + access_token\n",
    "    payload = json.dumps({\n",
    "        \"messages\": [\n",
    "            {\n",
    "                \"role\": \"user\",\n",
    "                \"content\": \"请给我几个好养活的小男孩的名字\"\n",
    "            },\n",
    "        ],\n",
    "        \"temperature\": 0.75,\n",
    "    })\n",
    "    headers = {\n",
    "        'Content-Type': 'application/json'\n",
    "    }\n",
    "\n",
    "    response = requests.request(\"POST\", url, headers=headers, data=payload)\n",
    "    print(response.text)\n",
    "\n",
    "\n",
    "if __name__ == '__main__':\n",
    "    main()"
   ]
  }
 ],
 "metadata": {
  "kernelspec": {
   "display_name": "Python 3",
   "language": "python",
   "name": "python3"
  },
  "language_info": {
   "codemirror_mode": {
    "name": "ipython",
    "version": 3
   },
   "file_extension": ".py",
   "mimetype": "text/x-python",
   "name": "python",
   "nbconvert_exporter": "python",
   "pygments_lexer": "ipython3",
   "version": "3.10.11"
  },
  "orig_nbformat": 4
 },
 "nbformat": 4,
 "nbformat_minor": 2
}
